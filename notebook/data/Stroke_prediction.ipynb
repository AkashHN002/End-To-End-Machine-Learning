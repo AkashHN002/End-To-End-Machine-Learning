{
 "cells": [
  {
   "cell_type": "code",
   "execution_count": 1,
   "id": "7695d251-029e-46d8-8c2d-4a118901f73c",
   "metadata": {},
   "outputs": [
    {
     "data": {
      "text/html": [
       "<div>\n",
       "<style scoped>\n",
       "    .dataframe tbody tr th:only-of-type {\n",
       "        vertical-align: middle;\n",
       "    }\n",
       "\n",
       "    .dataframe tbody tr th {\n",
       "        vertical-align: top;\n",
       "    }\n",
       "\n",
       "    .dataframe thead th {\n",
       "        text-align: right;\n",
       "    }\n",
       "</style>\n",
       "<table border=\"1\" class=\"dataframe\">\n",
       "  <thead>\n",
       "    <tr style=\"text-align: right;\">\n",
       "      <th></th>\n",
       "      <th>gender</th>\n",
       "      <th>age</th>\n",
       "      <th>hypertension</th>\n",
       "      <th>heart_disease</th>\n",
       "      <th>ever_married</th>\n",
       "      <th>work_type</th>\n",
       "      <th>Residence_type</th>\n",
       "      <th>avg_glucose_level</th>\n",
       "      <th>bmi</th>\n",
       "      <th>smoking_status</th>\n",
       "      <th>stroke</th>\n",
       "    </tr>\n",
       "  </thead>\n",
       "  <tbody>\n",
       "    <tr>\n",
       "      <th>0</th>\n",
       "      <td>Male</td>\n",
       "      <td>67.0</td>\n",
       "      <td>0</td>\n",
       "      <td>1</td>\n",
       "      <td>Yes</td>\n",
       "      <td>Private</td>\n",
       "      <td>Urban</td>\n",
       "      <td>228.69</td>\n",
       "      <td>36.6</td>\n",
       "      <td>formerly smoked</td>\n",
       "      <td>yes</td>\n",
       "    </tr>\n",
       "    <tr>\n",
       "      <th>1</th>\n",
       "      <td>Male</td>\n",
       "      <td>80.0</td>\n",
       "      <td>0</td>\n",
       "      <td>1</td>\n",
       "      <td>Yes</td>\n",
       "      <td>Private</td>\n",
       "      <td>Rural</td>\n",
       "      <td>105.92</td>\n",
       "      <td>32.5</td>\n",
       "      <td>never smoked</td>\n",
       "      <td>yes</td>\n",
       "    </tr>\n",
       "    <tr>\n",
       "      <th>2</th>\n",
       "      <td>Female</td>\n",
       "      <td>49.0</td>\n",
       "      <td>0</td>\n",
       "      <td>0</td>\n",
       "      <td>Yes</td>\n",
       "      <td>Private</td>\n",
       "      <td>Urban</td>\n",
       "      <td>171.23</td>\n",
       "      <td>34.4</td>\n",
       "      <td>smokes</td>\n",
       "      <td>yes</td>\n",
       "    </tr>\n",
       "    <tr>\n",
       "      <th>3</th>\n",
       "      <td>Female</td>\n",
       "      <td>79.0</td>\n",
       "      <td>1</td>\n",
       "      <td>0</td>\n",
       "      <td>Yes</td>\n",
       "      <td>Self-employed</td>\n",
       "      <td>Rural</td>\n",
       "      <td>174.12</td>\n",
       "      <td>24.0</td>\n",
       "      <td>never smoked</td>\n",
       "      <td>yes</td>\n",
       "    </tr>\n",
       "    <tr>\n",
       "      <th>4</th>\n",
       "      <td>Male</td>\n",
       "      <td>81.0</td>\n",
       "      <td>0</td>\n",
       "      <td>0</td>\n",
       "      <td>Yes</td>\n",
       "      <td>Private</td>\n",
       "      <td>Urban</td>\n",
       "      <td>186.21</td>\n",
       "      <td>29.0</td>\n",
       "      <td>formerly smoked</td>\n",
       "      <td>yes</td>\n",
       "    </tr>\n",
       "  </tbody>\n",
       "</table>\n",
       "</div>"
      ],
      "text/plain": [
       "   gender   age  hypertension  heart_disease ever_married      work_type  \\\n",
       "0    Male  67.0             0              1          Yes        Private   \n",
       "1    Male  80.0             0              1          Yes        Private   \n",
       "2  Female  49.0             0              0          Yes        Private   \n",
       "3  Female  79.0             1              0          Yes  Self-employed   \n",
       "4    Male  81.0             0              0          Yes        Private   \n",
       "\n",
       "  Residence_type  avg_glucose_level   bmi   smoking_status stroke  \n",
       "0          Urban             228.69  36.6  formerly smoked    yes  \n",
       "1          Rural             105.92  32.5     never smoked    yes  \n",
       "2          Urban             171.23  34.4           smokes    yes  \n",
       "3          Rural             174.12  24.0     never smoked    yes  \n",
       "4          Urban             186.21  29.0  formerly smoked    yes  "
      ]
     },
     "execution_count": 1,
     "metadata": {},
     "output_type": "execute_result"
    }
   ],
   "source": [
    "import pandas as pd\n",
    "import numpy as np\n",
    "import matplotlib.pyplot as plt\n",
    "from matplotlib import pyplot\n",
    "import seaborn as sns\n",
    "from sklearn.preprocessing import StandardScaler, LabelEncoder\n",
    "from sklearn.model_selection import train_test_split\n",
    "from sklearn.ensemble import RandomForestClassifier\n",
    "from sklearn.naive_bayes import GaussianNB\n",
    "from sklearn.model_selection import GridSearchCV\n",
    "from sklearn import metrics\n",
    "from sklearn.metrics import accuracy_score\n",
    "\n",
    "data = pd.read_csv(\"D:/Dataset/Stroke_Prediction/healthcare-dataset-stroke-data.csv\")\n",
    "data.drop('id', axis = 1, inplace = True)\n",
    "data.head()"
   ]
  },
  {
   "cell_type": "code",
   "execution_count": 2,
   "id": "98438b70-9545-4195-9c9b-990896f15823",
   "metadata": {},
   "outputs": [
    {
     "name": "stdout",
     "output_type": "stream",
     "text": [
      "<class 'pandas.core.frame.DataFrame'>\n",
      "RangeIndex: 4909 entries, 0 to 4908\n",
      "Data columns (total 11 columns):\n",
      " #   Column             Non-Null Count  Dtype  \n",
      "---  ------             --------------  -----  \n",
      " 0   gender             4909 non-null   object \n",
      " 1   age                4909 non-null   float64\n",
      " 2   hypertension       4909 non-null   int64  \n",
      " 3   heart_disease      4909 non-null   int64  \n",
      " 4   ever_married       4909 non-null   object \n",
      " 5   work_type          4909 non-null   object \n",
      " 6   Residence_type     4909 non-null   object \n",
      " 7   avg_glucose_level  4909 non-null   float64\n",
      " 8   bmi                4909 non-null   float64\n",
      " 9   smoking_status     4909 non-null   object \n",
      " 10  stroke             4909 non-null   object \n",
      "dtypes: float64(3), int64(2), object(6)\n",
      "memory usage: 422.0+ KB\n"
     ]
    }
   ],
   "source": [
    "data.info()"
   ]
  },
  {
   "cell_type": "code",
   "execution_count": 3,
   "id": "076a2f58-4674-4380-8e86-a83fc2ba527d",
   "metadata": {},
   "outputs": [
    {
     "data": {
      "image/png": "[encoded data removed]",
      "text/plain": [
       "<Figure size 640x480 with 1 Axes>"
      ]
     },
     "metadata": {},
     "output_type": "display_data"
    }
   ],
   "source": [
    "labels = ['NO','YES']\n",
    "sh = pd.Series(data['stroke']).value_counts(sort = True)\n",
    "sh.plot(kind = 'bar',rot = 0,color = ['blue','red'])\n",
    "plt.xticks(range(2), labels)\n",
    "plt.xlabel(\"Class\")\n",
    "plt.ylabel(\"Frequency\")\n",
    "plt.title('Distribution of Class')\n",
    "plt.show()"
   ]
  },
  {
   "cell_type": "markdown",
   "id": "c1e69e75-2836-46fb-9635-2d734a45715b",
   "metadata": {},
   "source": [
    "Label Encoding"
   ]
  },
  {
   "cell_type": "code",
   "execution_count": 4,
   "id": "38368d12-5e55-4daa-8187-28bcb8dc6868",
   "metadata": {},
   "outputs": [
    {
     "data": {
      "text/html": [
       "<div>\n",
       "<style scoped>\n",
       "    .dataframe tbody tr th:only-of-type {\n",
       "        vertical-align: middle;\n",
       "    }\n",
       "\n",
       "    .dataframe tbody tr th {\n",
       "        vertical-align: top;\n",
       "    }\n",
       "\n",
       "    .dataframe thead th {\n",
       "        text-align: right;\n",
       "    }\n",
       "</style>\n",
       "<table border=\"1\" class=\"dataframe\">\n",
       "  <thead>\n",
       "    <tr style=\"text-align: right;\">\n",
       "      <th></th>\n",
       "      <th>gender</th>\n",
       "      <th>age</th>\n",
       "      <th>hypertension</th>\n",
       "      <th>heart_disease</th>\n",
       "      <th>ever_married</th>\n",
       "      <th>work_type</th>\n",
       "      <th>Residence_type</th>\n",
       "      <th>avg_glucose_level</th>\n",
       "      <th>bmi</th>\n",
       "      <th>smoking_status</th>\n",
       "      <th>stroke</th>\n",
       "    </tr>\n",
       "  </thead>\n",
       "  <tbody>\n",
       "    <tr>\n",
       "      <th>0</th>\n",
       "      <td>1</td>\n",
       "      <td>67.0</td>\n",
       "      <td>0</td>\n",
       "      <td>1</td>\n",
       "      <td>1</td>\n",
       "      <td>2</td>\n",
       "      <td>1</td>\n",
       "      <td>228.69</td>\n",
       "      <td>36.6</td>\n",
       "      <td>1</td>\n",
       "      <td>1</td>\n",
       "    </tr>\n",
       "    <tr>\n",
       "      <th>1</th>\n",
       "      <td>1</td>\n",
       "      <td>80.0</td>\n",
       "      <td>0</td>\n",
       "      <td>1</td>\n",
       "      <td>1</td>\n",
       "      <td>2</td>\n",
       "      <td>0</td>\n",
       "      <td>105.92</td>\n",
       "      <td>32.5</td>\n",
       "      <td>2</td>\n",
       "      <td>1</td>\n",
       "    </tr>\n",
       "    <tr>\n",
       "      <th>2</th>\n",
       "      <td>0</td>\n",
       "      <td>49.0</td>\n",
       "      <td>0</td>\n",
       "      <td>0</td>\n",
       "      <td>1</td>\n",
       "      <td>2</td>\n",
       "      <td>1</td>\n",
       "      <td>171.23</td>\n",
       "      <td>34.4</td>\n",
       "      <td>3</td>\n",
       "      <td>1</td>\n",
       "    </tr>\n",
       "    <tr>\n",
       "      <th>3</th>\n",
       "      <td>0</td>\n",
       "      <td>79.0</td>\n",
       "      <td>1</td>\n",
       "      <td>0</td>\n",
       "      <td>1</td>\n",
       "      <td>3</td>\n",
       "      <td>0</td>\n",
       "      <td>174.12</td>\n",
       "      <td>24.0</td>\n",
       "      <td>2</td>\n",
       "      <td>1</td>\n",
       "    </tr>\n",
       "    <tr>\n",
       "      <th>4</th>\n",
       "      <td>1</td>\n",
       "      <td>81.0</td>\n",
       "      <td>0</td>\n",
       "      <td>0</td>\n",
       "      <td>1</td>\n",
       "      <td>2</td>\n",
       "      <td>1</td>\n",
       "      <td>186.21</td>\n",
       "      <td>29.0</td>\n",
       "      <td>1</td>\n",
       "      <td>1</td>\n",
       "    </tr>\n",
       "  </tbody>\n",
       "</table>\n",
       "</div>"
      ],
      "text/plain": [
       "   gender   age  hypertension  heart_disease  ever_married  work_type  \\\n",
       "0       1  67.0             0              1             1          2   \n",
       "1       1  80.0             0              1             1          2   \n",
       "2       0  49.0             0              0             1          2   \n",
       "3       0  79.0             1              0             1          3   \n",
       "4       1  81.0             0              0             1          2   \n",
       "\n",
       "   Residence_type  avg_glucose_level   bmi  smoking_status  stroke  \n",
       "0               1             228.69  36.6               1       1  \n",
       "1               0             105.92  32.5               2       1  \n",
       "2               1             171.23  34.4               3       1  \n",
       "3               0             174.12  24.0               2       1  \n",
       "4               1             186.21  29.0               1       1  "
      ]
     },
     "execution_count": 4,
     "metadata": {},
     "output_type": "execute_result"
    }
   ],
   "source": [
    "encoder = LabelEncoder()\n",
    "cols = [col for col in data.columns if col not in data.select_dtypes(include = np.number)]\n",
    "for col in cols:\n",
    "    data[col] = encoder.fit_transform(data[col])\n",
    "data.head()"
   ]
  },
  {
   "cell_type": "markdown",
   "id": "cbc10c12-19df-47ef-9711-cba344f66950",
   "metadata": {},
   "source": [
    "Heatmap showing correlation between variables"
   ]
  },
  {
   "cell_type": "code",
   "execution_count": 5,
   "id": "169620de-b7b8-443f-9989-fba5f6b7e94b",
   "metadata": {},
   "outputs": [
    {
     "data": {
      "text/plain": [
       "<Axes: >"
      ]
     },
     "execution_count": 5,
     "metadata": {},
     "output_type": "execute_result"
    },
    {
     "data": {
      "image/png": "[encoded data removed]",
      "text/plain": [
       "<Figure size 1000x800 with 2 Axes>"
      ]
     },
     "metadata": {},
     "output_type": "display_data"
    }
   ],
   "source": [
    "corr = data.corr()\n",
    "plt.figure(figsize = (10,8))\n",
    "sns.heatmap(corr,annot = True, cmap = 'coolwarm',fmt = '.2f',linewidth = 0.5)"
   ]
  },
  {
   "cell_type": "markdown",
   "id": "4472b538-215b-4569-8a5e-5c8d700f5109",
   "metadata": {},
   "source": [
    "Splitting Data "
   ]
  },
  {
   "cell_type": "code",
   "execution_count": 6,
   "id": "a85f31fa-102e-434f-a20d-0ec764690d6a",
   "metadata": {},
   "outputs": [],
   "source": [
    "X_features = data.iloc[:,0:10]\n",
    "y_label = data.iloc[:,10]"
   ]
  },
  {
   "cell_type": "markdown",
   "id": "cea41bad-0228-46bb-af81-ad4d1f4a5c87",
   "metadata": {},
   "source": [
    "Splitting data to training data and testing data"
   ]
  },
  {
   "cell_type": "code",
   "execution_count": 7,
   "id": "a05a7fe9-5402-4d89-a0e7-51770b0296d0",
   "metadata": {},
   "outputs": [
    {
     "name": "stdout",
     "output_type": "stream",
     "text": [
      "Size of train set:  (3927, 10)\n",
      "Size of test set:  (982, 10)\n"
     ]
    }
   ],
   "source": [
    "X_train, X_test, y_train, y_test = train_test_split(X_features, y_label, test_size = 0.2, random_state = 42)\n",
    "print('Size of train set: ',X_train.shape)\n",
    "print('Size of test set: ',X_test.shape)"
   ]
  },
  {
   "cell_type": "markdown",
   "id": "e9d5a34f-d32e-4f96-a43a-baedf03ffff7",
   "metadata": {},
   "source": [
    "Applying Algorithms"
   ]
  },
  {
   "cell_type": "markdown",
   "id": "32aef0b9-d2b1-42d9-be7c-9960a72fe1cb",
   "metadata": {},
   "source": [
    "### Naive Bayes Classifier"
   ]
  },
  {
   "cell_type": "raw",
   "id": "0615d680-d164-4ccd-a0b4-04309c195376",
   "metadata": {},
   "source": [
    "model = GaussianNB()\n",
    "model = model.fit(X_train,y_train)\n",
    "x_pred = model.predict(X_train)\n",
    "accuracy = metrics.accuracy_score(y_train,x_pred)\n",
    "print('Train acuracy of the Naive bayes algorithm is :')\n",
    "print(round(accuracy*100,3),'%') \n",
    "\n",
    "y_pred = model.predict(X_test)\n",
    "accuracy = metrics.accuracy_score(y_test,y_pred)\n",
    "print('Test acuracy of the Naive bayes algorithm is :')\n",
    "print(round(accuracy*100,3),'%') "
   ]
  },
  {
   "cell_type": "markdown",
   "id": "d08d94c0-944c-49b3-9c9b-a2eb2fddf5dc",
   "metadata": {},
   "source": [
    "### Random Forest classifier"
   ]
  },
  {
   "cell_type": "raw",
   "id": "5fd32015-6101-418b-88d7-add89e561a05",
   "metadata": {},
   "source": [
    "test_acc = []\n",
    "train_acc = []\n",
    "for i in range(1,21):\n",
    "    model = RandomForestClassifier(max_depth = i)\n",
    "    \n",
    "    model = model.fit(X_train,y_train)\n",
    "    y_pred = model.predict(X_train)\n",
    "    \n",
    "    train_accuracy = accuracy_score(y_train,y_pred)\n",
    "    train_acc.append(train_accuracy)\n",
    "\n",
    "    p_pred = model.predict(X_test)\n",
    "    test_accuracy = accuracy_score(y_test,p_pred)\n",
    "    test_acc.append(test_accuracy)\n",
    "\n",
    "    print(f'>> {i} Train: {train_accuracy:>3f}--- Test: {test_accuracy:>3f}')"
   ]
  },
  {
   "cell_type": "raw",
   "id": "5e5a8962-61ef-4de0-876a-34931c4960f2",
   "metadata": {},
   "source": [
    "pyplot.plot(list(range(1,21)),train_acc,'-o',label = 'Train Accuracy')\n",
    "pyplot.plot(list(range(1,21)),test_acc,'-o',label = 'Test Accuracy')\n",
    "plt.xlabel('Depth of Tree')\n",
    "plt.ylabel('Accuracy')\n",
    "pyplot.legend()\n",
    "pyplot.show()"
   ]
  },
  {
   "cell_type": "raw",
   "id": "c2e23b3f-8407-4c26-aff9-ff438a1c8c33",
   "metadata": {},
   "source": [
    "rmodel = RandomForestClassifier()\n",
    "    \n",
    "rmodel = rmodel.fit(X_train,y_train)\n",
    "y_pred = rmodel.predict(X_train)\n",
    "    \n",
    "train_accuracy = accuracy_score(y_train,y_pred)\n",
    "print('Train accuracy: ',round(train_accuracy*100,2))\n",
    "\n",
    "p_pred = model.predict(X_test)\n",
    "test_accuracy = accuracy_score(y_test,p_pred)\n",
    "print('Train accuracy: ',round(test_accuracy*100,2))"
   ]
  },
  {
   "cell_type": "markdown",
   "id": "782c2eb0-e2d3-4e43-ac6b-7b89b33f6a8f",
   "metadata": {},
   "source": [
    "#### Using Grid search CV"
   ]
  },
  {
   "cell_type": "raw",
   "id": "c2adde33-8a7d-4a93-9b88-57581095cd2e",
   "metadata": {},
   "source": [
    "param_grid = {\n",
    "    'n_estimators': [50,80, 100, 150, 180,200,220],\n",
    "    'max_depth': [2,5, 10,15, 20],\n",
    "    'min_samples_split': [2, 5, 10]\n",
    "}"
   ]
  },
  {
   "cell_type": "markdown",
   "id": "c081bdc8-4450-474b-83b3-e12daddf2070",
   "metadata": {},
   "source": [
    "Grid Search CV works by selecting the combination of all parameters in the parameter grid and gives the best combination of parameter which increases the model's performance"
   ]
  },
  {
   "cell_type": "raw",
   "id": "7ab0675d-43aa-4d8d-832f-b379b3012be7",
   "metadata": {},
   "source": [
    "grid_search = GridSearchCV(RandomForestClassifier(),param_grid, cv=5, scoring='accuracy', n_jobs=-1)\n",
    "grid_search.fit(X_train, y_train)"
   ]
  },
  {
   "cell_type": "raw",
   "id": "95d70dc3-9e74-47a8-861b-790132e017b8",
   "metadata": {},
   "source": [
    "print('Best estimators')\n",
    "grid_search.best_estimator_"
   ]
  },
  {
   "cell_type": "raw",
   "id": "423a65f7-4fb3-4739-b893-aeb641dafcba",
   "metadata": {},
   "source": [
    "print(f'Training accuracy:  {accurarcy_score(y_train,grid_search.best_estimator_.predict(X_train)):.2%}')\n",
    "print(f'Test accuracy: {accuracy_score(y_test,grid_search.best_estimator_.predict(X_test)):.2%}')"
   ]
  },
  {
   "cell_type": "raw",
   "id": "705d8675-0d02-4edc-901f-0cdcb4735e77",
   "metadata": {},
   "source": [
    "rmodel = RandomForestClassifier(max_depth = 10, min_samples_split = 10, n_estimators = 50)\n",
    "rmodel.fit(X_train, y_train)\n",
    "y_pred = rmodel.predict(X_test)\n",
    "acc = accuracy_score(y_test, y_pred)\n",
    "print(f'Test Accuracy {acc:.2%}')"
   ]
  },
  {
   "cell_type": "raw",
   "id": "a2d1afc5-c608-4157-b55f-357b43f4450d",
   "metadata": {},
   "source": [
    "print()\n",
    "y_label.value_counts().plot.pie(autopct = '%.2f')\n",
    "plt.title('Percentagee of Positive and Negative class values')\n",
    "plt.show()"
   ]
  },
  {
   "cell_type": "markdown",
   "id": "68044447-d1e6-43a6-950e-19296333f33d",
   "metadata": {},
   "source": [
    "Balancing Class"
   ]
  },
  {
   "cell_type": "raw",
   "id": "acc41c54-ae05-4f0a-a3e1-0c1c2dc3ef6b",
   "metadata": {},
   "source": [
    "from imblearn.under_sampling import RandomUnderSampler\n",
    "rus = RandomUnderSampler(sampling_strategy=1)\n",
    "X, y = rus.fit_resample(X_features, y_label)"
   ]
  },
  {
   "cell_type": "raw",
   "id": "e511a92d-1c9c-4f03-bcc7-47a5c9ca3af8",
   "metadata": {},
   "source": [
    "y.value_counts().plot.pie(autopct = '%.2f')\n",
    "plt.title('Percentagee of Positive and Negative class values after applying class balancer')\n",
    "plt.show()"
   ]
  },
  {
   "cell_type": "raw",
   "id": "9e2fb778-12a8-44d0-b84f-353a5bec0d61",
   "metadata": {},
   "source": [
    "X_train, X_test, y_train, y_test = train_test_split(X, y, test_size = 0.2, random_state = 42)"
   ]
  },
  {
   "cell_type": "markdown",
   "id": "c215e59c-1c32-4067-8352-223b41c774a9",
   "metadata": {},
   "source": [
    "#### Applying Naive Bayes Classifier for balanced data"
   ]
  },
  {
   "cell_type": "raw",
   "id": "3097f49a-72d9-4c59-9c71-28aaad75d58f",
   "metadata": {},
   "source": [
    "model = GaussianNB()\n",
    "model = model.fit(X_train,y_train)\n",
    "x_pred = model.predict(X_train)\n",
    "accuracy = metrics.accuracy_score(y_train,x_pred)\n",
    "print('The acuracy of the Naive bayes algorithm is :')\n",
    "print(f'{accuracy:.3%}') \n",
    "\n",
    "y_pred = model.predict(X_test)\n",
    "accuracy = metrics.accuracy_score(y_test,y_pred)\n",
    "print('The acuracy of the Naive bayes algorithm is :')\n",
    "print(f'{accuracy:.3%}') \n"
   ]
  },
  {
   "cell_type": "markdown",
   "id": "b701b4d7-34d1-4d1b-84e1-fdc29bb892c4",
   "metadata": {},
   "source": [
    "#### Applying Random Forest CLassifier for balanced data"
   ]
  },
  {
   "cell_type": "raw",
   "id": "ddf10a0b-e92f-4732-b6e2-5dea777612a7",
   "metadata": {},
   "source": [
    "test_acc = []\n",
    "train_acc = []\n",
    "for i in range(1,21):\n",
    "    model = RandomForestClassifier(max_depth = i)\n",
    "    \n",
    "    model = model.fit(X_train,y_train)\n",
    "    y_pred = model.predict(X_train)\n",
    "    \n",
    "    train_accuracy = accuracy_score(y_train,y_pred)\n",
    "    train_acc.append(train_accuracy)\n",
    "\n",
    "    p_pred = model.predict(X_test)\n",
    "    test_accuracy = accuracy_score(y_test,p_pred)\n",
    "    test_acc.append(test_accuracy)\n",
    "\n",
    "    print(f'>> {i} Train: {train_accuracy:.3%}--- Test: {test_accuracy:.3%}')"
   ]
  },
  {
   "cell_type": "raw",
   "id": "d7e601b4-d8cd-4e52-8564-74c94cf3a021",
   "metadata": {},
   "source": [
    "pyplot.plot(list(range(1,21)),train_acc,'-o',label = 'Train Accuracy')\n",
    "pyplot.plot(list(range(1,21)),test_acc,'-o',label = 'Test Accuracy')\n",
    "plt.xlabel('Depth of Tree')\n",
    "plt.ylabel('Accuracy')\n",
    "pyplot.legend()\n",
    "pyplot.show()"
   ]
  },
  {
   "cell_type": "raw",
   "id": "5aa23c83-d88e-4b55-9a48-6af08f8d8e95",
   "metadata": {},
   "source": [
    "model = RandomForestClassifier()\n",
    "    \n",
    "RF_model = model.fit(X_train,y_train)\n",
    "y_pred = RF_model.predict(X_train)\n",
    "    \n",
    "train_accuracy = accuracy_score(y_train,y_pred)\n",
    "print('Train accuracy: ',round(train_accuracy*100,2))\n",
    "\n",
    "p_pred = RF_model.predict(X_test)\n",
    "test_accuracy = accuracy_score(y_test,p_pred)\n",
    "print('Train accuracy: ',round(test_accuracy*100,2))"
   ]
  },
  {
   "cell_type": "raw",
   "id": "29a6c267-4028-432d-ae57-16e225d81ba5",
   "metadata": {},
   "source": [
    "param_grid = {\n",
    "    'n_estimators': [50,80, 100, 150, 180,200,220],\n",
    "    'max_depth': [2,5, 10,15, 20],\n",
    "    'min_samples_split': [2, 5, 10]\n",
    "}"
   ]
  },
  {
   "cell_type": "raw",
   "id": "24943aa4-4974-411b-87c1-42ab8a298862",
   "metadata": {},
   "source": [
    "grid_search = GridSearchCV(RandomForestClassifier(),param_grid, cv=5, scoring='accuracy', n_jobs=-1)\n",
    "grid_search.fit(X_train, y_train)"
   ]
  },
  {
   "cell_type": "raw",
   "id": "26611b7b-63f8-4675-bf3b-e8bdb659f201",
   "metadata": {},
   "source": [
    "print('Best estimators')\n",
    "grid_search.best_estimator_"
   ]
  },
  {
   "cell_type": "raw",
   "id": "70a97678-b018-44a7-9e33-dba6da7cc2bc",
   "metadata": {},
   "source": [
    "print(f'Training accuracy:  {accuracy_score(y_train,grid_search.best_estimator_.predict(X_train)):.2%}')\n",
    "print(f'Test accuracy: {accuracy_score(y_test,grid_search.best_estimator_.predict(X_test)):.2%}')"
   ]
  },
  {
   "cell_type": "markdown",
   "id": "5cffab4b-1bda-4c1f-aebc-25e35991a40c",
   "metadata": {},
   "source": [
    "Selecting Random Forest classifier to predict new data"
   ]
  },
  {
   "cell_type": "raw",
   "id": "e44416aa-bc01-42a8-814c-7f4dfc9471e0",
   "metadata": {},
   "source": [
    "X_features.sample(5)"
   ]
  },
  {
   "cell_type": "code",
   "execution_count": 8,
   "id": "c3af568b-cc65-4c14-99cb-bc1b1891233e",
   "metadata": {},
   "outputs": [],
   "source": [
    "rmodel = RandomForestClassifier(max_depth = 10, min_samples_split = 10, n_estimators = 50)\n",
    "rmodel.fit(X_train, y_train)\n",
    "import pickle\n",
    "\n",
    "with open('stroke_predicton_model.pkl', 'wb') as file:\n",
    "    pickle.dump(rmodel, file)"
   ]
  },
  {
   "cell_type": "code",
   "execution_count": 9,
   "id": "c86041c2-bdc2-4a09-b530-f27591c22d1d",
   "metadata": {},
   "outputs": [
    {
     "name": "stdout",
     "output_type": "stream",
     "text": [
      "Prediction: No stroke risk detected.\n"
     ]
    }
   ],
   "source": [
    "new_data = np.array([[1,50.0,0,0,1,2,1,100.00,29.0,0]])\n",
    "new_df = pd.DataFrame(new_data, columns = X_features.columns)\n",
    "rf_pred = rmodel.predict(new_df)\n",
    "\n",
    "if rf_pred[0]:\n",
    "    print('Prediction: Stroke risk is high.')\n",
    "else:\n",
    "    print('Prediction: No stroke risk detected.')"
   ]
  },
  {
   "cell_type": "code",
   "execution_count": null,
   "id": "2b4f9171-e48f-474b-938a-fa53469ed75d",
   "metadata": {},
   "outputs": [],
   "source": []
  }
 ],
 "metadata": {
  "kernelspec": {
   "display_name": "Python 3 (ipykernel)",
   "language": "python",
   "name": "python3"
  },
  "language_info": {
   "codemirror_mode": {
    "name": "ipython",
    "version": 3
   },
   "file_extension": ".py",
   "mimetype": "text/x-python",
   "name": "python",
   "nbconvert_exporter": "python",
   "pygments_lexer": "ipython3",
   "version": "3.11.7"
  }
 },
 "nbformat": 4,
 "nbformat_minor": 5
}
